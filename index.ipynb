{
 "cells": [
  {
   "cell_type": "markdown",
   "metadata": {},
   "source": [
    "# FastSparse\n",
    "\n",
    "> Customizable Fastai+PyTorch implementation of sparse model training methods (SET, SNFS, RigL)."
   ]
  },
  {
   "cell_type": "markdown",
   "metadata": {},
   "source": [
    "## _Warning: this repo is undergoing active development_"
   ]
  },
  {
   "cell_type": "markdown",
   "metadata": {},
   "source": [
    "## Getting Started"
   ]
  },
  {
   "cell_type": "markdown",
   "metadata": {},
   "source": [
    "### Install"
   ]
  },
  {
   "cell_type": "markdown",
   "metadata": {},
   "source": [
    "`pip install fastsparse`"
   ]
  },
  {
   "cell_type": "markdown",
   "metadata": {},
   "source": [
    "### Sparse Algorithms"
   ]
  },
  {
   "cell_type": "markdown",
   "metadata": {},
   "source": [
    "This network implements the following sparse algorithms:\n",
    "\n",
    "| Abbr. | Sparse Algorithm | in FastSparse | Notes |\n",
    "| :- | :- | :- | :- |\n",
    "|  | static sparsity baseline | omit `DynamicSparseTrainingCallback` |  |\n",
    "| SET | [Sparse Evolutionary Training](https://arxiv.org/abs/1901.09181) (Jan 2019) | `DynamicSparseTrainingCallback(**SET_presets)` |  |\n",
    "| SNFS | [Sparse Networks From Scratch](https://arxiv.org/abs/1907.04840) (Jul 2019) | `DynamicSparseTrainingCallback(**SNFS_presets)` | \\*redistribution not implemented |\n",
    "| RigL | [Rigged Lottery](https://arxiv.org/abs/1911.11134) (Nov 2019) | `DynamicSparseTrainingCallback(**RigL_presets)` |  |\n",
    "\n",
    "\\*Authors of the RigL paper demonstrate that using SNFS + Erdos-Renyi-Kernel distribution - redistribution outperforms SNFS + uniform sparsity + redistribution (at least on the measured benchmarks)."
   ]
  },
  {
   "cell_type": "markdown",
   "metadata": {},
   "source": [
    "### Fastai demo"
   ]
  },
  {
   "cell_type": "markdown",
   "metadata": {},
   "source": [
    "With just 4 additional lines of code, you can train your model using the latest dynamic sparse training techniques. This example achieves >99% accuracy on MNIST using a ResNet34 with only 1% of the weights.\n",
    "\n",
    "```python\n",
    "# (0) install the library\n",
    "# ! pip install fastsparse \n",
    "\n",
    "from fastai.vision.all import *\n",
    "\n",
    "# (1) import this package\n",
    "import fastsparse as sparse\n",
    "\n",
    "path = untar_data(URLs.MNIST)\n",
    "dls = ImageDataLoaders.from_folder(path, 'training', 'testing')\n",
    "learn = cnn_learner(dls, resnet34, metrics=error_rate, pretrained=False)\n",
    "\n",
    "# (2) sparsify initial model + enforce masks\n",
    "sparse_hooks = sparse.sparsify_model(learn.model, \n",
    "                                     model_sparsity=0.99,\n",
    "                                     sparse_f=sparse.erdos_renyi_sparsity)\n",
    "\n",
    "# (3) schedule dynamic mask updates\n",
    "cbs = [sparse.DynamicSparseTrainingCallback(**sparse.SNFS_presets, \n",
    "                                            batches_per_update=32)]\n",
    "\n",
    "learn.fit_one_cycle(5, cbs=cbs)\n",
    "\n",
    "# (4) remove hooks that enforce masks\n",
    "sparse_hooks.remove()\n",
    "```\n",
    "\n",
    "Simply omit the `DynamicSparseTrainingCallback` to train a fixed-sparsity model as a baseline."
   ]
  },
  {
   "cell_type": "markdown",
   "metadata": {},
   "source": [
    "### PyTorch demo (*not implemented yet*)"
   ]
  },
  {
   "cell_type": "markdown",
   "metadata": {},
   "source": [
    "```python\n",
    "import torch\n",
    "from torchvision import models\n",
    "\n",
    "data = ...\n",
    "model = ...\n",
    "opt = ...\n",
    "opt = DynamicSparseTrainingOptimizerWrapper(model, opt, **RigL_kwargs)\n",
    "\n",
    "### Modified training step\n",
    "# sparse_opt.step(...) will determine whether to:\n",
    "#  (A) take a regular opt step, or\n",
    "#  (B) update network connectivity\n",
    "def sparse_train_step(model, xb, yb, loss_func, sparse_opt, step, pct_train):\n",
    "    preds = model(xb)\n",
    "    loss = loss_func(preds, yb)\n",
    "    loss.backward()\n",
    "    sparse_opt.step(step, pct_train)\n",
    "    sparse_opt.zero_grad()\n",
    "```"
   ]
  },
  {
   "cell_type": "markdown",
   "metadata": {},
   "source": [
    "### Save/Reload demo"
   ]
  },
  {
   "cell_type": "markdown",
   "metadata": {},
   "source": [
    "Here is an example of saving a model and reloading it to resume training."
   ]
  },
  {
   "cell_type": "code",
   "execution_count": null,
   "metadata": {},
   "outputs": [
    {
     "data": {
      "text/html": [
       "<table border=\"1\" class=\"dataframe\">\n",
       "  <thead>\n",
       "    <tr style=\"text-align: left;\">\n",
       "      <th>epoch</th>\n",
       "      <th>train_loss</th>\n",
       "      <th>valid_loss</th>\n",
       "      <th>accuracy</th>\n",
       "      <th>time</th>\n",
       "    </tr>\n",
       "  </thead>\n",
       "  <tbody>\n",
       "    <tr>\n",
       "      <td>0</td>\n",
       "      <td>0.334119</td>\n",
       "      <td>0.679619</td>\n",
       "      <td>0.505007</td>\n",
       "      <td>00:03</td>\n",
       "    </tr>\n",
       "    <tr>\n",
       "      <td>1</td>\n",
       "      <td>0.271645</td>\n",
       "      <td>0.555170</td>\n",
       "      <td>0.848355</td>\n",
       "      <td>00:02</td>\n",
       "    </tr>\n",
       "    <tr>\n",
       "      <td>2</td>\n",
       "      <td>0.237115</td>\n",
       "      <td>0.072088</td>\n",
       "      <td>0.978541</td>\n",
       "      <td>00:02</td>\n",
       "    </tr>\n",
       "    <tr>\n",
       "      <td>3</td>\n",
       "      <td>0.220553</td>\n",
       "      <td>0.044927</td>\n",
       "      <td>0.987124</td>\n",
       "      <td>00:02</td>\n",
       "    </tr>\n",
       "    <tr>\n",
       "      <td>4</td>\n",
       "      <td>0.174585</td>\n",
       "      <td>0.006496</td>\n",
       "      <td>1.000000</td>\n",
       "      <td>00:02</td>\n",
       "    </tr>\n",
       "  </tbody>\n",
       "</table>"
      ],
      "text/plain": [
       "<IPython.core.display.HTML object>"
      ]
     },
     "metadata": {},
     "output_type": "display_data"
    }
   ],
   "source": [
    "from fastai.vision.all import *\n",
    "from fastsparse import *\n",
    "\n",
    "path = untar_data(URLs.MNIST_TINY)\n",
    "dls = ImageDataLoaders.from_folder(untar_data(URLs.MNIST_TINY))\n",
    "learn = cnn_learner(dls, resnet18, metrics=accuracy, pretrained=False)\n",
    "sparse_hooks = sparsify_model(learn.model, model_sparsity=0.9, sparse_f=erdos_renyi_sparsity)\n",
    "dst_kwargs = {**SNFS_presets, **{'batches_per_update': 8}}\n",
    "cbs = DynamicSparseTrainingCallback(**dst_kwargs)\n",
    "\n",
    "learn.fit_flat_cos(5, cbs=cbs)\n",
    "\n",
    "# (0) save model as usual (masks are stored automatically)\n",
    "save_model('sparse_tiny_mnist', learn.model, learn.opt)"
   ]
  },
  {
   "cell_type": "code",
   "execution_count": null,
   "metadata": {},
   "outputs": [
    {
     "name": "stderr",
     "output_type": "stream",
     "text": [
      "/home/dc/anaconda3/envs/fastai/lib/python3.8/site-packages/fastai/learner.py:53: UserWarning: Could not load the optimizer state.\n",
      "  if with_opt: warn(\"Could not load the optimizer state.\")\n"
     ]
    },
    {
     "data": {
      "text/html": [],
      "text/plain": [
       "<IPython.core.display.HTML object>"
      ]
     },
     "metadata": {},
     "output_type": "display_data"
    },
    {
     "name": "stdout",
     "output_type": "stream",
     "text": [
      "validation loss: 0.006496043410152197, validation accuracy: 1.0\n"
     ]
    }
   ],
   "source": [
    "### manually restart notebook ###\n",
    "\n",
    "# (1) then recreate learner as usual\n",
    "\n",
    "from fastai.vision.all import *\n",
    "from fastsparse import *\n",
    "\n",
    "path = untar_data(URLs.MNIST_TINY)\n",
    "dls = ImageDataLoaders.from_folder(untar_data(URLs.MNIST_TINY))\n",
    "learn = cnn_learner(dls, resnet18, metrics=accuracy, pretrained=False)\n",
    "\n",
    "# (2) re-sparsify model (this adds the masks to the parameters)\n",
    "sparse_hooks = sparsify_model(learn.model, model_sparsity=0.9, sparse_f=erdos_renyi_sparsity) # <-- initial sparsity + enforce masks\n",
    "\n",
    "# (3) load model as usual\n",
    "load_model('sparse_tiny_mnist', learn.model, learn.opt)\n",
    "\n",
    "# (5) check validation loss & accuracy to verify we've loaded it successfully\n",
    "val_loss, val_acc = learn.validate()\n",
    "print(f'validation loss: {val_loss}, validation accuracy: {val_acc}')\n",
    "\n",
    "# (4) optionally, continue training; otherwise remove sparsity-preserving hooks\n",
    "sparse_hooks.remove()"
   ]
  },
  {
   "cell_type": "markdown",
   "metadata": {},
   "source": [
    "### Training with Large Batch Sizes"
   ]
  },
  {
   "cell_type": "markdown",
   "metadata": {},
   "source": [
    "Authors of the Rigged Lottery paper hypothesize that the effectiveness of using the gradient magnitude for determining which connections to grow is partly due to their large batch size (4096 for ImageNet). Those without access to multi-gpu clusters can achieve effective batch sizes of this size by using fastai's `GradientAccumulation` callback, which has been tested to be compatible with this package's `DynamicSparseTrainingCallback`."
   ]
  },
  {
   "cell_type": "markdown",
   "metadata": {},
   "source": [
    "### Training with Small # of Epochs"
   ]
  },
  {
   "cell_type": "markdown",
   "metadata": {},
   "source": [
    "Dynamic sparse training algorithms work by modifying the network connectivity during training, dropping some weights and allowing others to regrow. By default, network connectivity is modified at the end of each epoch. When training with few epochs, however, there will be few chances to explore which weights to connect. To update more frequently, in `DynamicSparseTrainingCallback`, set `batches_per_update` to a smaller # of batches than occur in one training epoch. Varying the number of batches per update trades off the frequency of updates with stability in making good updates."
   ]
  },
  {
   "cell_type": "markdown",
   "metadata": {},
   "source": [
    "## Customization\n",
    "\n",
    "There are many ways to implement and test your own dynamic sparse algorithms using FastSparse."
   ]
  },
  {
   "cell_type": "markdown",
   "metadata": {},
   "source": [
    "### Custom Initial Sparsity Distribution:"
   ]
  },
  {
   "cell_type": "markdown",
   "metadata": {},
   "source": [
    "Define your own initial sparsity distribution by setting `sparsify_method` in `sparsify_model` to a custom function. For example, this function (included in library) will keep the first layer dense and set the remaining layers to a fixed sparsity.\n",
    "\n",
    "```python\n",
    "def first_layer_dense_uniform(params:list, model_sparsity:float):\n",
    "    sparsities = [1.] + [model_sparsity] * (len(params) - 1)\n",
    "    return sparsities\n",
    "```"
   ]
  },
  {
   "cell_type": "markdown",
   "metadata": {},
   "source": [
    "### Custom Drop Criterion"
   ]
  },
  {
   "cell_type": "markdown",
   "metadata": {},
   "source": [
    "While published papers like SNFS and RigL refer to 'drop criterion', this library implements the reverse, a 'keep criterion'. This is a function that returns a score for each weight, where the largest `M` scores will be and `M` is determined by the decay schedule. For example, both Sparse Networks From Scratch and Rigged Lottery both use the magnitude of the weights (in FastSparse: `weight_magnitude`).\n",
    "\n",
    "This can easily be customized in FastSparse by defining your own keep score function:\n",
    "\n",
    "```python\n",
    "def custom_keep_scoring_function(param, opt):\n",
    "    score = ...\n",
    "    assert param.shape == score.shape\n",
    "    return score\n",
    "```\n",
    "\n",
    "Then pass your custom function into the sparse training callback:\n",
    "\n",
    "```python\n",
    "DynamicSparseTrainingCallback(..., keep_score_f=custom_keep_scoring_function)\n",
    "```"
   ]
  },
  {
   "cell_type": "markdown",
   "metadata": {},
   "source": [
    "### Custom Grow Criterion"
   ]
  },
  {
   "cell_type": "markdown",
   "metadata": {},
   "source": [
    "The grow criterion is a function that returns a score for each weight, where the largest `N` scores will be and `N` is determined by the decay schedule. For example, Sparse Networks From Scrath grows weights according to the momentum of the gradient, while Rigged Lottery uses the magnitude of the gradient (in FastSparse, `gradient_momentum` and `gradient_magnitude` respectively).\n",
    "\n",
    "```python\n",
    "def custom_grow_scoring_function(param, opt):\n",
    "    score = ...\n",
    "    assert param.shape == score.shape\n",
    "    return score\n",
    "```\n",
    "\n",
    "Then pass your custom function into the sparse training callback:\n",
    "\n",
    "```python\n",
    "DynamicSparseTrainingCallback(..., grow_score_f=custom_grow_scoring_function)\n",
    "```"
   ]
  },
  {
   "cell_type": "markdown",
   "metadata": {},
   "source": [
    "## Replication Results"
   ]
  },
  {
   "cell_type": "markdown",
   "metadata": {},
   "source": [
    "In machine learning, is very easy for seemingly insignificant differences in algorithmic implementation to have a noticeable impact on final results. Therefore, this section compares results from this implementation to results reported in published papers."
   ]
  },
  {
   "cell_type": "markdown",
   "metadata": {},
   "source": [
    "TODO..."
   ]
  },
  {
   "cell_type": "markdown",
   "metadata": {},
   "source": [
    "## Under-The-Hood Details"
   ]
  },
  {
   "cell_type": "markdown",
   "metadata": {},
   "source": [
    "Here's what's going on. \n",
    "\n",
    "When you run `sparsify_model(learn.model, 0.9)`, this adds sparse masks and add pre_forward hooks to enforce masks on weights during forward pass.\n",
    "\n",
    "> By default, a uniform sparsity distribution is used. Change the sparsity distribution to Erdos-Renyi with `sparsify_model(learn.model, 0.9, sparse_init_f=erdos_renyi)`, or pass in your custom function (see [Customization](#Customization)\n",
    "\n",
    "> To avoid adding pre_forward hooks, use `sparsify_model(learn.model, 0.9, enforce_masks=False)`.\n",
    "\n",
    "When you add the `DynamicSparseTrainingCallback` callback, ... TODO complete section"
   ]
  }
 ],
 "metadata": {
  "kernelspec": {
   "display_name": "Python 3",
   "language": "python",
   "name": "python3"
  }
 },
 "nbformat": 4,
 "nbformat_minor": 2
}
