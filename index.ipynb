{
 "cells": [
  {
   "cell_type": "markdown",
   "metadata": {},
   "source": [
    "# FastSparse\n",
    "\n",
    "> Customizable Fastai+PyTorch implementation of sparse model training methods (SET, SNFS, RigL)."
   ]
  },
  {
   "cell_type": "markdown",
   "metadata": {},
   "source": [
    "## _Warning: this repo is undergoing active development_"
   ]
  },
  {
   "cell_type": "markdown",
   "metadata": {},
   "source": [
    "## Getting Started"
   ]
  },
  {
   "cell_type": "markdown",
   "metadata": {},
   "source": [
    "### Install"
   ]
  },
  {
   "cell_type": "markdown",
   "metadata": {},
   "source": [
    "`pip install fastsparse`"
   ]
  },
  {
   "cell_type": "markdown",
   "metadata": {},
   "source": [
    "### Sparse Algorithms\n",
    "\n",
    "This network implements the following sparse algorithms:\n",
    "\n",
    "| Abbr. | Sparse Algorithm | in FastSparse | Notes |\n",
    "| :- | :- | :- | :- |\n",
    "|  | static sparsity baseline | omit `DynamicSparseTrainingCallback` |  |\n",
    "| SET | [Sparse Evolutionary Training](https://arxiv.org/abs/1901.09181) (Jan 2019) | `DynamicSparseTrainingCallback(**SET_presets)` |  |\n",
    "| SNFS | [Sparse Networks From Scratch](https://arxiv.org/abs/1907.04840) (Jul 2019) | `DynamicSparseTrainingCallback(**SNFS_presets)` | redistribution not implemented* |\n",
    "| RigL | [Rigged Lottery](https://arxiv.org/abs/1911.11134) (Nov 2019) | `DynamicSparseTrainingCallback(**RigL_presets)` |  |\n",
    "\n",
    "\\*Authors of the RigL paper demonstrate that using SNFS + Erdos-Renyi-Kernel distribution - redistribution outperforms SNFS + uniform sparsity + redistribution (at least on the measured benchmarks)."
   ]
  },
  {
   "cell_type": "markdown",
   "metadata": {},
   "source": [
    "### Fastai demo"
   ]
  },
  {
   "cell_type": "markdown",
   "metadata": {},
   "source": [
    "With just 4 additional lines of code, you can train your model using the latest dynamic sparse training techniques. This example achieves >99% accuracy on MNIST using a ResNet34 with only 1% of the weights.\n",
    "\n",
    "```python\n",
    "# (0) install the library\n",
    "# ! pip install fastsparse \n",
    "\n",
    "from fastai.vision.all import *\n",
    "\n",
    "# (1) import this package\n",
    "import fastsparse as sparse\n",
    "\n",
    "path = untar_data(URLs.MNIST)\n",
    "dls = ImageDataLoaders.from_folder(path, 'training', 'testing')\n",
    "learn = cnn_learner(dls, resnet34, metrics=error_rate, pretrained=False)\n",
    "\n",
    "# (2) sparsify initial model + enforce masks\n",
    "sparse_hooks = sparse.sparsify_model(learn.model, \n",
    "                                     model_sparsity=0.99,\n",
    "                                     sparse_f=sparse.erdos_renyi_sparsity)\n",
    "\n",
    "# (3) schedule dynamic mask updates\n",
    "cbs = [sparse.DynamicSparseTrainingCallback(**sparse.SNFS_presets, \n",
    "                                            batches_per_update=32)]\n",
    "\n",
    "learn.fit_one_cycle(5, cbs=cbs)\n",
    "\n",
    "# (4) remove hooks that enforce masks\n",
    "sparse_hooks.remove()\n",
    "```\n",
    "\n",
    "Simply omit the `DynamicSparseTrainingCallback` to train a fixed-sparsity model as a baseline."
   ]
  },
  {
   "cell_type": "markdown",
   "metadata": {},
   "source": [
    "### PyTorch demo (*not implemented yet*)"
   ]
  },
  {
   "cell_type": "markdown",
   "metadata": {},
   "source": [
    "```python\n",
    "import torch\n",
    "from torchvision import models\n",
    "\n",
    "data = ...\n",
    "model = ...\n",
    "opt = ...\n",
    "opt = DynamicSparseTrainingOptimizerWrapper(model, opt, **RigL_kwargs)\n",
    "\n",
    "### Modified training step\n",
    "# sparse_opt.step(...) will determine whether to:\n",
    "#  (A) take a regular opt step, or\n",
    "#  (B) update network connectivity\n",
    "def sparse_train_step(model, xb, yb, loss_func, sparse_opt, step, pct_train):\n",
    "    preds = model(xb)\n",
    "    loss = loss_func(preds, yb)\n",
    "    loss.backward()\n",
    "    sparse_opt.step(step, pct_train)\n",
    "    sparse_opt.zero_grad()\n",
    "```"
   ]
  },
  {
   "cell_type": "markdown",
   "metadata": {},
   "source": [
    "### Training with Large Batch Sizes"
   ]
  },
  {
   "cell_type": "markdown",
   "metadata": {},
   "source": [
    "Authors of the Rigged Lottery paper hypothesize that the effectiveness of using the gradient magnitude for determining which connections to grow is partly due to their large batch size (4096 for ImageNet). Those without access to multi-gpu clusters can achieve effective batch sizes of this size by using fastai's `GradientAccumulation` callback, which has been tested to be compatible with this package's `DynamicSparseTrainingCallback`."
   ]
  },
  {
   "cell_type": "markdown",
   "metadata": {},
   "source": [
    "### Training with Small # of Epochs"
   ]
  },
  {
   "cell_type": "markdown",
   "metadata": {},
   "source": [
    "Dynamic sparse training algorithms work by modifying the network connectivity during training, dropping some weights and allowing others to regrow. By default, network connectivity is modified at the end of each epoch. When training with few epochs, however, there will be few chances to explore which weights to connect. To update more frequently, in `DynamicSparseTrainingCallback`, set `batches_per_update` to a smaller # of batches than occur in one training epoch. Varying the number of batches per update trades off the frequency of updates with stability in making good updates."
   ]
  },
  {
   "cell_type": "markdown",
   "metadata": {},
   "source": [
    "## Customization\n",
    "\n",
    "There are several places to modify the behavior of fastsparse to accomplish custom behaviors. For an example, check out the implementation of RigL."
   ]
  },
  {
   "cell_type": "markdown",
   "metadata": {},
   "source": [
    "### 1. Custom Initial Sparsity Distribution:"
   ]
  },
  {
   "cell_type": "markdown",
   "metadata": {},
   "source": [
    "Define your own initial sparsity distribution by setting `sparsify_method` in `sparsify_model` to a custom function. For example, this function (included in library) will keep the first layer dense and set the remaining layers to a fixed sparsity.\n",
    "\n",
    "```python\n",
    "def first_layer_dense_uniform(params:list, model_sparsity:float):\n",
    "    sparsities = [1.] + [model_sparsity] * (len(params) - 1)\n",
    "    return sparsities\n",
    "```"
   ]
  },
  {
   "cell_type": "markdown",
   "metadata": {},
   "source": [
    "### 2. Custom Drop Criterion"
   ]
  },
  {
   "cell_type": "markdown",
   "metadata": {},
   "source": [
    "While published papers like SNFS and RigL refer to 'drop criterion', this library implements the reverse, a 'keep criterion'. This is a function that returns a score for each weight, where the largest `M` scores will be and `M` is determined by the decay schedule. For example, both Sparse Networks From Scratch and Rigged Lottery both use the magnitude of the weights (in FastSparse: `weight_magnitude`).\n",
    "\n",
    "This can easily be customized in FastSparse by defining your own keep score function:\n",
    "\n",
    "```python\n",
    "def custom_keep_scoring_function(param, opt):\n",
    "    score = ...\n",
    "    assert param.shape == score.shape\n",
    "    return score\n",
    "```\n",
    "\n",
    "Then pass your custom function into the sparse training callback:\n",
    "\n",
    "```python\n",
    "DynamicSparseTrainingCallback(..., keep_score_f=custom_keep_scoring_function)\n",
    "```"
   ]
  },
  {
   "cell_type": "markdown",
   "metadata": {},
   "source": [
    "### 4. Custom Grow Criterion"
   ]
  },
  {
   "cell_type": "markdown",
   "metadata": {},
   "source": [
    "The grow criterion is a function that returns a score for each weight, where the largest `N` scores will be and `N` is determined by the decay schedule. For example, Sparse Networks From Scrath grows weights according to the momentum of the gradient, while Rigged Lottery uses the magnitude of the gradient (in FastSparse, `gradient_momentum` and `gradient_magnitude` respectively).\n",
    "\n",
    "```python\n",
    "def custom_grow_scoring_function(param, opt):\n",
    "    score = ...\n",
    "    assert param.shape == score.shape\n",
    "    return score\n",
    "```\n",
    "\n",
    "Then pass your custom function into the sparse training callback:\n",
    "\n",
    "```python\n",
    "DynamicSparseTrainingCallback(..., grow_score_f=custom_grow_scoring_function)\n",
    "```"
   ]
  },
  {
   "cell_type": "markdown",
   "metadata": {},
   "source": [
    "## Replication Results\n",
    "\n",
    "In machine learning, is very easy for seemingly insignificant differences in algorithmic implementation to have a noticeable impact on final results. Therefore, the following section compares results from this implementation to those reported in some published papers."
   ]
  },
  {
   "cell_type": "markdown",
   "metadata": {},
   "source": [
    "TODO..."
   ]
  },
  {
   "cell_type": "markdown",
   "metadata": {},
   "source": [
    "## Under-The-Hood Details"
   ]
  },
  {
   "cell_type": "markdown",
   "metadata": {},
   "source": [
    "Here's what's going on. \n",
    "\n",
    "When you run `sparsify_model(learn.model, 0.9)`, this adds sparse masks and add pre_forward hooks to enforce masks on weights during forward pass.\n",
    "\n",
    "> By default, a uniform sparsity distribution is used. Change the sparsity distribution to Erdos-Renyi with `sparsify_model(learn.model, 0.9, sparse_init_f=erdos_renyi)`, or pass in your custom function (see [Customization](#Customization)\n",
    "\n",
    "> To avoid adding pre_forward hooks, use `sparsify_model(learn.model, 0.9, enforce_masks=False)`.\n",
    "\n",
    "When you add the `DynamicSparseTrainingCallback` callback, ... TODO complete section"
   ]
  },
  {
   "cell_type": "code",
   "execution_count": null,
   "metadata": {},
   "outputs": [],
   "source": []
  }
 ],
 "metadata": {
  "kernelspec": {
   "display_name": "Python 3",
   "language": "python",
   "name": "python3"
  }
 },
 "nbformat": 4,
 "nbformat_minor": 2
}
